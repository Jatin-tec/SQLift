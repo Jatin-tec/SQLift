{
  "cells": [
    {
      "cell_type": "code",
      "execution_count": 1,
      "metadata": {
        "id": "VNwUS19Tqf6g"
      },
      "outputs": [
        {
          "name": "stderr",
          "output_type": "stream",
          "text": [
            "Matplotlib is building the font cache; this may take a moment.\n"
          ]
        }
      ],
      "source": [
        "import os\n",
        "from dotenv import load_dotenv\n",
        "import openai\n",
        "import pandas as pd\n",
        "import numpy as np\n",
        "import matplotlib.pyplot as plt"
      ]
    },
    {
      "cell_type": "code",
      "execution_count": 4,
      "metadata": {
        "colab": {
          "background_save": true
        },
        "id": "vpJpayZ2vPAJ"
      },
      "outputs": [],
      "source": [
        "load_dotenv()\n",
        "openai.api_key = os.getenv(\"OPENAI_API_KEY\")"
      ]
    },
    {
      "cell_type": "code",
      "execution_count": 5,
      "metadata": {
        "colab": {
          "background_save": true
        },
        "id": "Jmv-j2bqxApc"
      },
      "outputs": [],
      "source": [
        "df = pd.read_csv(\"dataset.csv\")"
      ]
    },
    {
      "cell_type": "code",
      "execution_count": 6,
      "metadata": {
        "colab": {
          "background_save": true,
          "base_uri": "https://localhost:8080/",
          "height": 603
        },
        "id": "VvDOmpfCxJZ2",
        "outputId": "66e9191a-ce54-447e-a238-9213327213b0"
      },
      "outputs": [
        {
          "data": {
            "text/html": [
              "<div>\n",
              "<style scoped>\n",
              "    .dataframe tbody tr th:only-of-type {\n",
              "        vertical-align: middle;\n",
              "    }\n",
              "\n",
              "    .dataframe tbody tr th {\n",
              "        vertical-align: top;\n",
              "    }\n",
              "\n",
              "    .dataframe thead th {\n",
              "        text-align: right;\n",
              "    }\n",
              "</style>\n",
              "<table border=\"1\" class=\"dataframe\">\n",
              "  <thead>\n",
              "    <tr style=\"text-align: right;\">\n",
              "      <th></th>\n",
              "      <th>invoice_num</th>\n",
              "      <th>Seller_desc</th>\n",
              "      <th>Cosignee_desc</th>\n",
              "      <th>Buyer_desc</th>\n",
              "      <th>date</th>\n",
              "      <th>date_of_fulfilment</th>\n",
              "      <th>date_of_upload</th>\n",
              "      <th>mode_of_payment</th>\n",
              "      <th>product_desc</th>\n",
              "      <th>HSN</th>\n",
              "      <th>...</th>\n",
              "      <th>Tax_amount</th>\n",
              "      <th>Payment_details</th>\n",
              "      <th>Acc_num</th>\n",
              "      <th>IFSC</th>\n",
              "      <th>Bank_name</th>\n",
              "      <th>Branch</th>\n",
              "      <th>Dispateched_through</th>\n",
              "      <th>motor_num</th>\n",
              "      <th>destination</th>\n",
              "      <th>Status</th>\n",
              "    </tr>\n",
              "  </thead>\n",
              "  <tbody>\n",
              "    <tr>\n",
              "      <th>0</th>\n",
              "      <td>101</td>\n",
              "      <td>SMITA ARORA</td>\n",
              "      <td>X O Footwear Pvt Ltd, A-122, phase 2, Mangolpu...</td>\n",
              "      <td>X O Footwear Pvt Ltd, A-122, phase 2, Mangolpu...</td>\n",
              "      <td>29/11/2022</td>\n",
              "      <td>NaN</td>\n",
              "      <td>29/11/2022</td>\n",
              "      <td>CHEQUE</td>\n",
              "      <td>LIVE HORSES, ASSES, MULES AND HINNIES PURE-BRE...</td>\n",
              "      <td>1011010</td>\n",
              "      <td>...</td>\n",
              "      <td>3272.94</td>\n",
              "      <td>NaN</td>\n",
              "      <td>44444444444</td>\n",
              "      <td>900800</td>\n",
              "      <td>BANK OF BARODA</td>\n",
              "      <td>ASHOK VIHAR</td>\n",
              "      <td>TATA 407</td>\n",
              "      <td>9413</td>\n",
              "      <td>NANGLOI</td>\n",
              "      <td>pending</td>\n",
              "    </tr>\n",
              "    <tr>\n",
              "      <th>1</th>\n",
              "      <td>102</td>\n",
              "      <td>VIPIN GARG</td>\n",
              "      <td>X O Footwear Pvt Ltd, A-122, phase 2, Mangolpu...</td>\n",
              "      <td>X O Footwear Pvt Ltd, A-122, phase 2, Mangolpu...</td>\n",
              "      <td>17/04/2022</td>\n",
              "      <td>NaN</td>\n",
              "      <td>17/04/2022</td>\n",
              "      <td>CASH</td>\n",
              "      <td>LIVE HORSES, ASSES, MULESANDHINNIES PURE-BRED ...</td>\n",
              "      <td>1011020</td>\n",
              "      <td>...</td>\n",
              "      <td>1859.76</td>\n",
              "      <td>NaN</td>\n",
              "      <td>44444444444</td>\n",
              "      <td>456987</td>\n",
              "      <td>ICICI BANK</td>\n",
              "      <td>SOUTH EX</td>\n",
              "      <td>TATA 407</td>\n",
              "      <td>8485</td>\n",
              "      <td>NANGLOI</td>\n",
              "      <td>pending</td>\n",
              "    </tr>\n",
              "    <tr>\n",
              "      <th>2</th>\n",
              "      <td>103</td>\n",
              "      <td>TECHNOPLAST ENTERPRISES PVT. LTD.</td>\n",
              "      <td>X O Footwear Pvt Ltd, A-122, phase 2, Mangolpu...</td>\n",
              "      <td>X O Footwear Pvt Ltd, A-122, phase 2, Mangolpu...</td>\n",
              "      <td>26/06/2022</td>\n",
              "      <td>NaN</td>\n",
              "      <td>26/06/2022</td>\n",
              "      <td>CHEQUE</td>\n",
              "      <td>LIVE HORSES, ASSES, MULES AND HINNIES PURE-BRE...</td>\n",
              "      <td>1011090</td>\n",
              "      <td>...</td>\n",
              "      <td>6018.30</td>\n",
              "      <td>NaN</td>\n",
              "      <td>44444444444</td>\n",
              "      <td>456732</td>\n",
              "      <td>ICICI BANK</td>\n",
              "      <td>NAGLOI</td>\n",
              "      <td>SUMO</td>\n",
              "      <td>5431</td>\n",
              "      <td>NANGLOI</td>\n",
              "      <td>pending</td>\n",
              "    </tr>\n",
              "    <tr>\n",
              "      <th>3</th>\n",
              "      <td>104</td>\n",
              "      <td>ARGUS</td>\n",
              "      <td>X O Footwear Pvt Ltd, A-122, phase 2, Mangolpu...</td>\n",
              "      <td>X O Footwear Pvt Ltd, A-122, phase 2, Mangolpu...</td>\n",
              "      <td>04/08/2022</td>\n",
              "      <td>NaN</td>\n",
              "      <td>04/08/2022</td>\n",
              "      <td>CHEQUE</td>\n",
              "      <td>LIVE HORSES, ASSES, MULES AND HINNIES - OTHER ...</td>\n",
              "      <td>1019010</td>\n",
              "      <td>...</td>\n",
              "      <td>810.00</td>\n",
              "      <td>NaN</td>\n",
              "      <td>99999999999</td>\n",
              "      <td>125678</td>\n",
              "      <td>ICICI BANK</td>\n",
              "      <td>NAGLOI</td>\n",
              "      <td>HATHI</td>\n",
              "      <td>7764</td>\n",
              "      <td>BAHADURGARH</td>\n",
              "      <td>pending</td>\n",
              "    </tr>\n",
              "    <tr>\n",
              "      <th>4</th>\n",
              "      <td>105</td>\n",
              "      <td>SUMITRA MEHTA</td>\n",
              "      <td>X O Footwear Pvt Ltd, A-122, phase 2, Mangolpu...</td>\n",
              "      <td>X O Footwear Pvt Ltd, A-122, phase 2, Mangolpu...</td>\n",
              "      <td>28/01/2022</td>\n",
              "      <td>NaN</td>\n",
              "      <td>28/01/2022</td>\n",
              "      <td>CASH</td>\n",
              "      <td>LIVE HORSES, ASSES, MULES AND HINNIES - OTHER ...</td>\n",
              "      <td>1019020</td>\n",
              "      <td>...</td>\n",
              "      <td>3078.00</td>\n",
              "      <td>NaN</td>\n",
              "      <td>88888888888</td>\n",
              "      <td>125678</td>\n",
              "      <td>CANARA BANK</td>\n",
              "      <td>WAZIRPUR</td>\n",
              "      <td>SUMO</td>\n",
              "      <td>6484</td>\n",
              "      <td>NANGLOI</td>\n",
              "      <td>pending</td>\n",
              "    </tr>\n",
              "  </tbody>\n",
              "</table>\n",
              "<p>5 rows × 25 columns</p>\n",
              "</div>"
            ],
            "text/plain": [
              "   invoice_num                        Seller_desc  \\\n",
              "0          101                        SMITA ARORA   \n",
              "1          102                         VIPIN GARG   \n",
              "2          103  TECHNOPLAST ENTERPRISES PVT. LTD.   \n",
              "3          104                              ARGUS   \n",
              "4          105                      SUMITRA MEHTA   \n",
              "\n",
              "                                       Cosignee_desc  \\\n",
              "0  X O Footwear Pvt Ltd, A-122, phase 2, Mangolpu...   \n",
              "1  X O Footwear Pvt Ltd, A-122, phase 2, Mangolpu...   \n",
              "2  X O Footwear Pvt Ltd, A-122, phase 2, Mangolpu...   \n",
              "3  X O Footwear Pvt Ltd, A-122, phase 2, Mangolpu...   \n",
              "4  X O Footwear Pvt Ltd, A-122, phase 2, Mangolpu...   \n",
              "\n",
              "                                          Buyer_desc        date  \\\n",
              "0  X O Footwear Pvt Ltd, A-122, phase 2, Mangolpu...  29/11/2022   \n",
              "1  X O Footwear Pvt Ltd, A-122, phase 2, Mangolpu...  17/04/2022   \n",
              "2  X O Footwear Pvt Ltd, A-122, phase 2, Mangolpu...  26/06/2022   \n",
              "3  X O Footwear Pvt Ltd, A-122, phase 2, Mangolpu...  04/08/2022   \n",
              "4  X O Footwear Pvt Ltd, A-122, phase 2, Mangolpu...  28/01/2022   \n",
              "\n",
              "  date_of_fulfilment date_of_upload mode_of_payment  \\\n",
              "0                NaN     29/11/2022          CHEQUE   \n",
              "1                NaN     17/04/2022            CASH   \n",
              "2                NaN     26/06/2022          CHEQUE   \n",
              "3                NaN     04/08/2022          CHEQUE   \n",
              "4                NaN     28/01/2022            CASH   \n",
              "\n",
              "                                        product_desc      HSN  ...  \\\n",
              "0  LIVE HORSES, ASSES, MULES AND HINNIES PURE-BRE...  1011010  ...   \n",
              "1  LIVE HORSES, ASSES, MULESANDHINNIES PURE-BRED ...  1011020  ...   \n",
              "2  LIVE HORSES, ASSES, MULES AND HINNIES PURE-BRE...  1011090  ...   \n",
              "3  LIVE HORSES, ASSES, MULES AND HINNIES - OTHER ...  1019010  ...   \n",
              "4  LIVE HORSES, ASSES, MULES AND HINNIES - OTHER ...  1019020  ...   \n",
              "\n",
              "   Tax_amount  Payment_details      Acc_num    IFSC       Bank_name  \\\n",
              "0     3272.94              NaN  44444444444  900800  BANK OF BARODA   \n",
              "1     1859.76              NaN  44444444444  456987      ICICI BANK   \n",
              "2     6018.30              NaN  44444444444  456732      ICICI BANK   \n",
              "3      810.00              NaN  99999999999  125678      ICICI BANK   \n",
              "4     3078.00              NaN  88888888888  125678     CANARA BANK   \n",
              "\n",
              "        Branch  Dispateched_through  motor_num  destination   Status  \n",
              "0  ASHOK VIHAR             TATA 407       9413      NANGLOI  pending  \n",
              "1     SOUTH EX             TATA 407       8485      NANGLOI  pending  \n",
              "2       NAGLOI                 SUMO       5431      NANGLOI  pending  \n",
              "3       NAGLOI                HATHI       7764  BAHADURGARH  pending  \n",
              "4     WAZIRPUR                 SUMO       6484      NANGLOI  pending  \n",
              "\n",
              "[5 rows x 25 columns]"
            ]
          },
          "execution_count": 6,
          "metadata": {},
          "output_type": "execute_result"
        }
      ],
      "source": [
        "df.head()"
      ]
    },
    {
      "cell_type": "code",
      "execution_count": 7,
      "metadata": {
        "colab": {
          "background_save": true
        },
        "id": "_ukRuYYu3SOH"
      },
      "outputs": [],
      "source": [
        "df_datatypes = df.dtypes"
      ]
    },
    {
      "cell_type": "code",
      "execution_count": 8,
      "metadata": {
        "id": "hoSn4jLixcLS"
      },
      "outputs": [],
      "source": [
        "df_columns = list(df.columns.values)"
      ]
    },
    {
      "cell_type": "code",
      "execution_count": 9,
      "metadata": {
        "id": "XjQVuCkSvvhq"
      },
      "outputs": [],
      "source": [
        "def get_response(query):\n",
        "  return openai.ChatCompletion.create(\n",
        "    model=\"gpt-3.5-turbo\",\n",
        "    messages=[\n",
        "        {\"role\": \"system\", \"content\": \"You are a helpful AI assistant who helps Exploring and Visualising data.\"},\n",
        "        {\"role\": \"user\", \"content\": f\"Here is list of all the columns in my dataframe {df_columns} and datatype dictionary of each column {dict(df_datatypes)} also first 3 rows of the dataframe {df.head(3)}.\"},\n",
        "        {\"role\": \"user\", \"content\": f\"\"\"From now on respond only a python script which will fetch the requested data.\n",
        "            Note: -I already have all the required importes.\n",
        "                  -I've already imported dataframe and stored it inside df variable.\n",
        "                  -You can change datatype of required column if required.\n",
        "                  -Strictly respond with a single line of python code which can get requested data from dataframe (df variable).\n",
        "                  -Date time format is DD/MM/YYYY.\n",
        "                  -Store response in out variable.\n",
        "            Follow following steps:\n",
        "            -> If qestion includes fetching details from `Seller_desc` column then first covert both fields (user query and data frame) to lowercase first then compare.\n",
        "        \"\"\"},\n",
        "        {\"role\": \"user\", \"content\": f\"Here is the user query delimited between <> <{query}>\"}\n",
        "    ]\n",
        ")"
      ]
    },
    {
      "cell_type": "markdown",
      "metadata": {
        "id": "Ng3ZirOHs3yR"
      },
      "source": [
        "##How many invoices are active in July 2022?"
      ]
    },
    {
      "cell_type": "code",
      "execution_count": 10,
      "metadata": {
        "id": "G5u4NShzwlx8"
      },
      "outputs": [],
      "source": [
        "response = get_response(\"How many invoices are active in July 2022?\")\n",
        "response = response[\"choices\"][0][\"message\"][\"content\"]"
      ]
    },
    {
      "cell_type": "code",
      "execution_count": 11,
      "metadata": {
        "colab": {
          "base_uri": "https://localhost:8080/",
          "height": 35
        },
        "id": "_ijpGwxprh4U",
        "outputId": "228443e0-0677-4af3-eeea-affeda001f45"
      },
      "outputs": [
        {
          "data": {
            "text/plain": [
              "\"out = len(df[df['date'].str.contains('07/2022', na=False)])\""
            ]
          },
          "execution_count": 11,
          "metadata": {},
          "output_type": "execute_result"
        }
      ],
      "source": [
        "response"
      ]
    },
    {
      "cell_type": "code",
      "execution_count": 12,
      "metadata": {
        "id": "Y5jdyET1Cezp"
      },
      "outputs": [],
      "source": [
        "out =  len(df[(df['Status'] == 'pending') & (df['date'].str.contains('07/2022'))])"
      ]
    },
    {
      "cell_type": "code",
      "execution_count": null,
      "metadata": {
        "colab": {
          "base_uri": "https://localhost:8080/",
          "height": 603
        },
        "id": "pS3YR5peBw3f",
        "outputId": "1a4f60e5-aaaa-416f-83dd-e1a0bb6ec33e"
      },
      "outputs": [
        {
          "data": {
            "text/html": [
              "\n",
              "  <div id=\"df-27c8bc7c-c44c-437d-a77b-91163641d731\" class=\"colab-df-container\">\n",
              "    <div>\n",
              "<style scoped>\n",
              "    .dataframe tbody tr th:only-of-type {\n",
              "        vertical-align: middle;\n",
              "    }\n",
              "\n",
              "    .dataframe tbody tr th {\n",
              "        vertical-align: top;\n",
              "    }\n",
              "\n",
              "    .dataframe thead th {\n",
              "        text-align: right;\n",
              "    }\n",
              "</style>\n",
              "<table border=\"1\" class=\"dataframe\">\n",
              "  <thead>\n",
              "    <tr style=\"text-align: right;\">\n",
              "      <th></th>\n",
              "      <th>invoice_num</th>\n",
              "      <th>Seller_desc</th>\n",
              "      <th>Cosignee_desc</th>\n",
              "      <th>Buyer_desc</th>\n",
              "      <th>date</th>\n",
              "      <th>date_of_fulfilment</th>\n",
              "      <th>date_of_upload</th>\n",
              "      <th>mode_of_payment</th>\n",
              "      <th>product_desc</th>\n",
              "      <th>HSN</th>\n",
              "      <th>...</th>\n",
              "      <th>Tax_amount</th>\n",
              "      <th>Payment_details</th>\n",
              "      <th>Acc_num</th>\n",
              "      <th>IFSC</th>\n",
              "      <th>Bank_name</th>\n",
              "      <th>Branch</th>\n",
              "      <th>Dispateched_through</th>\n",
              "      <th>motor_num</th>\n",
              "      <th>destination</th>\n",
              "      <th>Status</th>\n",
              "    </tr>\n",
              "  </thead>\n",
              "  <tbody>\n",
              "    <tr>\n",
              "      <th>10</th>\n",
              "      <td>111</td>\n",
              "      <td>NEHA AGGARWAL</td>\n",
              "      <td>X O Footwear Pvt Ltd, A-122, phase 2, Mangolpu...</td>\n",
              "      <td>X O Footwear Pvt Ltd, A-122, phase 2, Mangolpu...</td>\n",
              "      <td>25/07/2022</td>\n",
              "      <td>NaN</td>\n",
              "      <td>25/07/2022</td>\n",
              "      <td>CASH</td>\n",
              "      <td>LIVE BOVINE ANIMALS - OTHER - BULLS - ADULT</td>\n",
              "      <td>1029010</td>\n",
              "      <td>...</td>\n",
              "      <td>602.64</td>\n",
              "      <td>NaN</td>\n",
              "      <td>99999999999</td>\n",
              "      <td>456732</td>\n",
              "      <td>HDFC BANK</td>\n",
              "      <td>NAGLOI</td>\n",
              "      <td>TATA 407</td>\n",
              "      <td>9357</td>\n",
              "      <td>BAHADURGARH</td>\n",
              "      <td>pending</td>\n",
              "    </tr>\n",
              "    <tr>\n",
              "      <th>463</th>\n",
              "      <td>564</td>\n",
              "      <td>RAJAN VERMA</td>\n",
              "      <td>X O Footwear Pvt Ltd, A-122, phase 2, Mangolpu...</td>\n",
              "      <td>X O Footwear Pvt Ltd, A-122, phase 2, Mangolpu...</td>\n",
              "      <td>06/07/2022</td>\n",
              "      <td>NaN</td>\n",
              "      <td>06/07/2022</td>\n",
              "      <td>CHEQUE</td>\n",
              "      <td>SKINS AND OTHER PARTS OF BIRDS, WITH THEIR - F...</td>\n",
              "      <td>5059091</td>\n",
              "      <td>...</td>\n",
              "      <td>699.84</td>\n",
              "      <td>NaN</td>\n",
              "      <td>77777777777</td>\n",
              "      <td>125678</td>\n",
              "      <td>BANK OF BARODA</td>\n",
              "      <td>NAGLOI</td>\n",
              "      <td>TATA 407</td>\n",
              "      <td>5084</td>\n",
              "      <td>BAHADURGARH</td>\n",
              "      <td>pending</td>\n",
              "    </tr>\n",
              "    <tr>\n",
              "      <th>466</th>\n",
              "      <td>567</td>\n",
              "      <td>RAJ STUDIO</td>\n",
              "      <td>X O Footwear Pvt Ltd, A-122, phase 2, Mangolpu...</td>\n",
              "      <td>X O Footwear Pvt Ltd, A-122, phase 2, Mangolpu...</td>\n",
              "      <td>01/07/2022</td>\n",
              "      <td>NaN</td>\n",
              "      <td>01/07/2022</td>\n",
              "      <td>CHEQUE</td>\n",
              "      <td>BONES AND HORN-CORES, UNWORKED, - DEFATTED, SI...</td>\n",
              "      <td>5061019</td>\n",
              "      <td>...</td>\n",
              "      <td>742.14</td>\n",
              "      <td>NaN</td>\n",
              "      <td>44444444444</td>\n",
              "      <td>456732</td>\n",
              "      <td>BANK OF BARODA</td>\n",
              "      <td>ASHOK VIHAR</td>\n",
              "      <td>HATHI</td>\n",
              "      <td>5017</td>\n",
              "      <td>KUNDLI</td>\n",
              "      <td>pending</td>\n",
              "    </tr>\n",
              "    <tr>\n",
              "      <th>470</th>\n",
              "      <td>571</td>\n",
              "      <td>NATRAJ HOME FURNISHING PVT. LTD.</td>\n",
              "      <td>X O Footwear Pvt Ltd, A-122, phase 2, Mangolpu...</td>\n",
              "      <td>X O Footwear Pvt Ltd, A-122, phase 2, Mangolpu...</td>\n",
              "      <td>17/07/2022</td>\n",
              "      <td>NaN</td>\n",
              "      <td>17/07/2022</td>\n",
              "      <td>CASH</td>\n",
              "      <td>BONES AND HORN-CORES, UNWORKED, - DEFATTED, SI...</td>\n",
              "      <td>5061039</td>\n",
              "      <td>...</td>\n",
              "      <td>1732.50</td>\n",
              "      <td>NaN</td>\n",
              "      <td>66666666666</td>\n",
              "      <td>986123</td>\n",
              "      <td>BANK OF BARODA</td>\n",
              "      <td>CONNAUGHT PLACE</td>\n",
              "      <td>HATHI</td>\n",
              "      <td>8964</td>\n",
              "      <td>NANGLOI</td>\n",
              "      <td>pending</td>\n",
              "    </tr>\n",
              "    <tr>\n",
              "      <th>472</th>\n",
              "      <td>573</td>\n",
              "      <td>GAURAV SIKRI</td>\n",
              "      <td>X O Footwear Pvt Ltd, A-122, phase 2, Mangolpu...</td>\n",
              "      <td>X O Footwear Pvt Ltd, A-122, phase 2, Mangolpu...</td>\n",
              "      <td>07/07/2022</td>\n",
              "      <td>NaN</td>\n",
              "      <td>07/07/2022</td>\n",
              "      <td>CHEQUE</td>\n",
              "      <td>BONES AND HORN-CORES, UNWORKED, - DEFATTED, SI...</td>\n",
              "      <td>5061049</td>\n",
              "      <td>...</td>\n",
              "      <td>2025.00</td>\n",
              "      <td>NaN</td>\n",
              "      <td>44444444444</td>\n",
              "      <td>125678</td>\n",
              "      <td>ICICI BANK</td>\n",
              "      <td>SOUTH EX</td>\n",
              "      <td>TATA 407</td>\n",
              "      <td>8182</td>\n",
              "      <td>NANGLOI</td>\n",
              "      <td>pending</td>\n",
              "    </tr>\n",
              "  </tbody>\n",
              "</table>\n",
              "<p>5 rows × 25 columns</p>\n",
              "</div>\n",
              "    <div class=\"colab-df-buttons\">\n",
              "\n",
              "  <div class=\"colab-df-container\">\n",
              "    <button class=\"colab-df-convert\" onclick=\"convertToInteractive('df-27c8bc7c-c44c-437d-a77b-91163641d731')\"\n",
              "            title=\"Convert this dataframe to an interactive table.\"\n",
              "            style=\"display:none;\">\n",
              "\n",
              "  <svg xmlns=\"http://www.w3.org/2000/svg\" height=\"24px\" viewBox=\"0 -960 960 960\">\n",
              "    <path d=\"M120-120v-720h720v720H120Zm60-500h600v-160H180v160Zm220 220h160v-160H400v160Zm0 220h160v-160H400v160ZM180-400h160v-160H180v160Zm440 0h160v-160H620v160ZM180-180h160v-160H180v160Zm440 0h160v-160H620v160Z\"/>\n",
              "  </svg>\n",
              "    </button>\n",
              "\n",
              "  <style>\n",
              "    .colab-df-container {\n",
              "      display:flex;\n",
              "      gap: 12px;\n",
              "    }\n",
              "\n",
              "    .colab-df-convert {\n",
              "      background-color: #E8F0FE;\n",
              "      border: none;\n",
              "      border-radius: 50%;\n",
              "      cursor: pointer;\n",
              "      display: none;\n",
              "      fill: #1967D2;\n",
              "      height: 32px;\n",
              "      padding: 0 0 0 0;\n",
              "      width: 32px;\n",
              "    }\n",
              "\n",
              "    .colab-df-convert:hover {\n",
              "      background-color: #E2EBFA;\n",
              "      box-shadow: 0px 1px 2px rgba(60, 64, 67, 0.3), 0px 1px 3px 1px rgba(60, 64, 67, 0.15);\n",
              "      fill: #174EA6;\n",
              "    }\n",
              "\n",
              "    .colab-df-buttons div {\n",
              "      margin-bottom: 4px;\n",
              "    }\n",
              "\n",
              "    [theme=dark] .colab-df-convert {\n",
              "      background-color: #3B4455;\n",
              "      fill: #D2E3FC;\n",
              "    }\n",
              "\n",
              "    [theme=dark] .colab-df-convert:hover {\n",
              "      background-color: #434B5C;\n",
              "      box-shadow: 0px 1px 3px 1px rgba(0, 0, 0, 0.15);\n",
              "      filter: drop-shadow(0px 1px 2px rgba(0, 0, 0, 0.3));\n",
              "      fill: #FFFFFF;\n",
              "    }\n",
              "  </style>\n",
              "\n",
              "    <script>\n",
              "      const buttonEl =\n",
              "        document.querySelector('#df-27c8bc7c-c44c-437d-a77b-91163641d731 button.colab-df-convert');\n",
              "      buttonEl.style.display =\n",
              "        google.colab.kernel.accessAllowed ? 'block' : 'none';\n",
              "\n",
              "      async function convertToInteractive(key) {\n",
              "        const element = document.querySelector('#df-27c8bc7c-c44c-437d-a77b-91163641d731');\n",
              "        const dataTable =\n",
              "          await google.colab.kernel.invokeFunction('convertToInteractive',\n",
              "                                                    [key], {});\n",
              "        if (!dataTable) return;\n",
              "\n",
              "        const docLinkHtml = 'Like what you see? Visit the ' +\n",
              "          '<a target=\"_blank\" href=https://colab.research.google.com/notebooks/data_table.ipynb>data table notebook</a>'\n",
              "          + ' to learn more about interactive tables.';\n",
              "        element.innerHTML = '';\n",
              "        dataTable['output_type'] = 'display_data';\n",
              "        await google.colab.output.renderOutput(dataTable, element);\n",
              "        const docLink = document.createElement('div');\n",
              "        docLink.innerHTML = docLinkHtml;\n",
              "        element.appendChild(docLink);\n",
              "      }\n",
              "    </script>\n",
              "  </div>\n",
              "\n",
              "\n",
              "<div id=\"df-f9b1e8e0-40f2-4b4f-9f14-4b0b518f5090\">\n",
              "  <button class=\"colab-df-quickchart\" onclick=\"quickchart('df-f9b1e8e0-40f2-4b4f-9f14-4b0b518f5090')\"\n",
              "            title=\"Suggest charts.\"\n",
              "            style=\"display:none;\">\n",
              "\n",
              "<svg xmlns=\"http://www.w3.org/2000/svg\" height=\"24px\"viewBox=\"0 0 24 24\"\n",
              "     width=\"24px\">\n",
              "    <g>\n",
              "        <path d=\"M19 3H5c-1.1 0-2 .9-2 2v14c0 1.1.9 2 2 2h14c1.1 0 2-.9 2-2V5c0-1.1-.9-2-2-2zM9 17H7v-7h2v7zm4 0h-2V7h2v10zm4 0h-2v-4h2v4z\"/>\n",
              "    </g>\n",
              "</svg>\n",
              "  </button>\n",
              "\n",
              "<style>\n",
              "  .colab-df-quickchart {\n",
              "      --bg-color: #E8F0FE;\n",
              "      --fill-color: #1967D2;\n",
              "      --hover-bg-color: #E2EBFA;\n",
              "      --hover-fill-color: #174EA6;\n",
              "      --disabled-fill-color: #AAA;\n",
              "      --disabled-bg-color: #DDD;\n",
              "  }\n",
              "\n",
              "  [theme=dark] .colab-df-quickchart {\n",
              "      --bg-color: #3B4455;\n",
              "      --fill-color: #D2E3FC;\n",
              "      --hover-bg-color: #434B5C;\n",
              "      --hover-fill-color: #FFFFFF;\n",
              "      --disabled-bg-color: #3B4455;\n",
              "      --disabled-fill-color: #666;\n",
              "  }\n",
              "\n",
              "  .colab-df-quickchart {\n",
              "    background-color: var(--bg-color);\n",
              "    border: none;\n",
              "    border-radius: 50%;\n",
              "    cursor: pointer;\n",
              "    display: none;\n",
              "    fill: var(--fill-color);\n",
              "    height: 32px;\n",
              "    padding: 0;\n",
              "    width: 32px;\n",
              "  }\n",
              "\n",
              "  .colab-df-quickchart:hover {\n",
              "    background-color: var(--hover-bg-color);\n",
              "    box-shadow: 0 1px 2px rgba(60, 64, 67, 0.3), 0 1px 3px 1px rgba(60, 64, 67, 0.15);\n",
              "    fill: var(--button-hover-fill-color);\n",
              "  }\n",
              "\n",
              "  .colab-df-quickchart-complete:disabled,\n",
              "  .colab-df-quickchart-complete:disabled:hover {\n",
              "    background-color: var(--disabled-bg-color);\n",
              "    fill: var(--disabled-fill-color);\n",
              "    box-shadow: none;\n",
              "  }\n",
              "\n",
              "  .colab-df-spinner {\n",
              "    border: 2px solid var(--fill-color);\n",
              "    border-color: transparent;\n",
              "    border-bottom-color: var(--fill-color);\n",
              "    animation:\n",
              "      spin 1s steps(1) infinite;\n",
              "  }\n",
              "\n",
              "  @keyframes spin {\n",
              "    0% {\n",
              "      border-color: transparent;\n",
              "      border-bottom-color: var(--fill-color);\n",
              "      border-left-color: var(--fill-color);\n",
              "    }\n",
              "    20% {\n",
              "      border-color: transparent;\n",
              "      border-left-color: var(--fill-color);\n",
              "      border-top-color: var(--fill-color);\n",
              "    }\n",
              "    30% {\n",
              "      border-color: transparent;\n",
              "      border-left-color: var(--fill-color);\n",
              "      border-top-color: var(--fill-color);\n",
              "      border-right-color: var(--fill-color);\n",
              "    }\n",
              "    40% {\n",
              "      border-color: transparent;\n",
              "      border-right-color: var(--fill-color);\n",
              "      border-top-color: var(--fill-color);\n",
              "    }\n",
              "    60% {\n",
              "      border-color: transparent;\n",
              "      border-right-color: var(--fill-color);\n",
              "    }\n",
              "    80% {\n",
              "      border-color: transparent;\n",
              "      border-right-color: var(--fill-color);\n",
              "      border-bottom-color: var(--fill-color);\n",
              "    }\n",
              "    90% {\n",
              "      border-color: transparent;\n",
              "      border-bottom-color: var(--fill-color);\n",
              "    }\n",
              "  }\n",
              "</style>\n",
              "\n",
              "  <script>\n",
              "    async function quickchart(key) {\n",
              "      const quickchartButtonEl =\n",
              "        document.querySelector('#' + key + ' button');\n",
              "      quickchartButtonEl.disabled = true;  // To prevent multiple clicks.\n",
              "      quickchartButtonEl.classList.add('colab-df-spinner');\n",
              "      try {\n",
              "        const charts = await google.colab.kernel.invokeFunction(\n",
              "            'suggestCharts', [key], {});\n",
              "      } catch (error) {\n",
              "        console.error('Error during call to suggestCharts:', error);\n",
              "      }\n",
              "      quickchartButtonEl.classList.remove('colab-df-spinner');\n",
              "      quickchartButtonEl.classList.add('colab-df-quickchart-complete');\n",
              "    }\n",
              "    (() => {\n",
              "      let quickchartButtonEl =\n",
              "        document.querySelector('#df-f9b1e8e0-40f2-4b4f-9f14-4b0b518f5090 button');\n",
              "      quickchartButtonEl.style.display =\n",
              "        google.colab.kernel.accessAllowed ? 'block' : 'none';\n",
              "    })();\n",
              "  </script>\n",
              "</div>\n",
              "    </div>\n",
              "  </div>\n"
            ],
            "text/plain": [
              "     invoice_num                       Seller_desc  \\\n",
              "10           111                     NEHA AGGARWAL   \n",
              "463          564                       RAJAN VERMA   \n",
              "466          567                        RAJ STUDIO   \n",
              "470          571  NATRAJ HOME FURNISHING PVT. LTD.   \n",
              "472          573                      GAURAV SIKRI   \n",
              "\n",
              "                                         Cosignee_desc  \\\n",
              "10   X O Footwear Pvt Ltd, A-122, phase 2, Mangolpu...   \n",
              "463  X O Footwear Pvt Ltd, A-122, phase 2, Mangolpu...   \n",
              "466  X O Footwear Pvt Ltd, A-122, phase 2, Mangolpu...   \n",
              "470  X O Footwear Pvt Ltd, A-122, phase 2, Mangolpu...   \n",
              "472  X O Footwear Pvt Ltd, A-122, phase 2, Mangolpu...   \n",
              "\n",
              "                                            Buyer_desc        date  \\\n",
              "10   X O Footwear Pvt Ltd, A-122, phase 2, Mangolpu...  25/07/2022   \n",
              "463  X O Footwear Pvt Ltd, A-122, phase 2, Mangolpu...  06/07/2022   \n",
              "466  X O Footwear Pvt Ltd, A-122, phase 2, Mangolpu...  01/07/2022   \n",
              "470  X O Footwear Pvt Ltd, A-122, phase 2, Mangolpu...  17/07/2022   \n",
              "472  X O Footwear Pvt Ltd, A-122, phase 2, Mangolpu...  07/07/2022   \n",
              "\n",
              "    date_of_fulfilment date_of_upload mode_of_payment  \\\n",
              "10                 NaN     25/07/2022            CASH   \n",
              "463                NaN     06/07/2022          CHEQUE   \n",
              "466                NaN     01/07/2022          CHEQUE   \n",
              "470                NaN     17/07/2022            CASH   \n",
              "472                NaN     07/07/2022          CHEQUE   \n",
              "\n",
              "                                          product_desc      HSN  ...  \\\n",
              "10         LIVE BOVINE ANIMALS - OTHER - BULLS - ADULT  1029010  ...   \n",
              "463  SKINS AND OTHER PARTS OF BIRDS, WITH THEIR - F...  5059091  ...   \n",
              "466  BONES AND HORN-CORES, UNWORKED, - DEFATTED, SI...  5061019  ...   \n",
              "470  BONES AND HORN-CORES, UNWORKED, - DEFATTED, SI...  5061039  ...   \n",
              "472  BONES AND HORN-CORES, UNWORKED, - DEFATTED, SI...  5061049  ...   \n",
              "\n",
              "     Tax_amount  Payment_details      Acc_num    IFSC       Bank_name  \\\n",
              "10       602.64              NaN  99999999999  456732      HDFC BANK    \n",
              "463      699.84              NaN  77777777777  125678  BANK OF BARODA   \n",
              "466      742.14              NaN  44444444444  456732  BANK OF BARODA   \n",
              "470     1732.50              NaN  66666666666  986123  BANK OF BARODA   \n",
              "472     2025.00              NaN  44444444444  125678      ICICI BANK   \n",
              "\n",
              "              Branch  Dispateched_through  motor_num  destination   Status  \n",
              "10            NAGLOI             TATA 407       9357  BAHADURGARH  pending  \n",
              "463           NAGLOI             TATA 407       5084  BAHADURGARH  pending  \n",
              "466      ASHOK VIHAR                HATHI       5017       KUNDLI  pending  \n",
              "470  CONNAUGHT PLACE                HATHI       8964      NANGLOI  pending  \n",
              "472         SOUTH EX             TATA 407       8182      NANGLOI  pending  \n",
              "\n",
              "[5 rows x 25 columns]"
            ]
          },
          "execution_count": 23,
          "metadata": {},
          "output_type": "execute_result"
        }
      ],
      "source": [
        "df[(df['Status'] == 'pending') & (df['date'].str.contains('07/2022'))].head()"
      ]
    },
    {
      "cell_type": "code",
      "execution_count": null,
      "metadata": {
        "id": "DuwdkKMZwqIQ"
      },
      "outputs": [],
      "source": [
        "exec(str(response))"
      ]
    },
    {
      "cell_type": "code",
      "execution_count": null,
      "metadata": {
        "colab": {
          "base_uri": "https://localhost:8080/"
        },
        "id": "0jb9rvZb1vxA",
        "outputId": "6c102c15-39a3-419a-8a24-844ff1e39f70"
      },
      "outputs": [
        {
          "data": {
            "text/plain": [
              "581"
            ]
          },
          "execution_count": 25,
          "metadata": {},
          "output_type": "execute_result"
        }
      ],
      "source": [
        "out"
      ]
    },
    {
      "cell_type": "markdown",
      "metadata": {
        "id": "oMUFd6KMs-S-"
      },
      "source": [
        "##Find all invoices from Deepak Jain which are pending"
      ]
    },
    {
      "cell_type": "code",
      "execution_count": null,
      "metadata": {
        "id": "_ItlRR5armWN"
      },
      "outputs": [],
      "source": [
        "response = get_response(\"Find all invoices from Deepak Jain which are pending\")\n",
        "response = response[\"choices\"][0][\"message\"][\"content\"]"
      ]
    },
    {
      "cell_type": "code",
      "execution_count": null,
      "metadata": {
        "colab": {
          "base_uri": "https://localhost:8080/",
          "height": 35
        },
        "id": "4JXmI2jh2COo",
        "outputId": "bda1b9f5-30dc-42bc-b796-607b4e8bfb2e"
      },
      "outputs": [
        {
          "data": {
            "application/vnd.google.colaboratory.intrinsic+json": {
              "type": "string"
            },
            "text/plain": [
              "\"out = df[df['Seller_desc'].str.lower() == 'deepak jain'].loc[df['Status'] == 'pending']['invoice_num']\""
            ]
          },
          "execution_count": 33,
          "metadata": {},
          "output_type": "execute_result"
        }
      ],
      "source": [
        "response"
      ]
    },
    {
      "cell_type": "code",
      "execution_count": null,
      "metadata": {
        "colab": {
          "base_uri": "https://localhost:8080/"
        },
        "id": "IMT_NC8fugw8",
        "outputId": "99410eee-9e2f-4854-cd81-6d80ab2c8152"
      },
      "outputs": [
        {
          "name": "stderr",
          "output_type": "stream",
          "text": [
            "<ipython-input-28-a2f6897eda0e>:1: UserWarning: Boolean Series key will be reindexed to match DataFrame index.\n",
            "  df[df['Seller_desc'] == 'Deepak Jain'][df['Status'] == 'pending']['invoice_num']\n"
          ]
        },
        {
          "data": {
            "text/plain": [
              "Series([], Name: invoice_num, dtype: int64)"
            ]
          },
          "execution_count": 28,
          "metadata": {},
          "output_type": "execute_result"
        }
      ],
      "source": [
        "df[df['Seller_desc'] == 'Deepak Jain'][df['Status'] == 'pending']['invoice_num']"
      ]
    },
    {
      "cell_type": "code",
      "execution_count": null,
      "metadata": {
        "id": "DHiXbiO4sMCp"
      },
      "outputs": [],
      "source": [
        "exec(str(response))"
      ]
    },
    {
      "cell_type": "code",
      "execution_count": null,
      "metadata": {
        "colab": {
          "base_uri": "https://localhost:8080/"
        },
        "id": "MjYmu3xLsRH0",
        "outputId": "16d2a352-3818-49ae-896e-099f42634f02"
      },
      "outputs": [
        {
          "data": {
            "text/plain": [
              "6          107\n",
              "688        789\n",
              "1381      1482\n",
              "3074      3175\n",
              "3085      3186\n",
              "4114      4215\n",
              "4852      4953\n",
              "4931      5032\n",
              "5972      6073\n",
              "6569      6670\n",
              "9425      9526\n",
              "11067    11168\n",
              "11725    11826\n",
              "12449    12550\n",
              "Name: invoice_num, dtype: int64"
            ]
          },
          "execution_count": 35,
          "metadata": {},
          "output_type": "execute_result"
        }
      ],
      "source": [
        "out"
      ]
    },
    {
      "cell_type": "markdown",
      "metadata": {
        "id": "JdXTpX6ttM5E"
      },
      "source": [
        "##Find all invoices from Deepak Jain with value above 10000"
      ]
    },
    {
      "cell_type": "code",
      "execution_count": null,
      "metadata": {
        "id": "2hdjo4WhsRf2"
      },
      "outputs": [],
      "source": [
        "response = get_response(\"Find all invoices from Deepak Jain with value above 10000\")\n",
        "response = response[\"choices\"][0][\"message\"][\"content\"]"
      ]
    },
    {
      "cell_type": "code",
      "execution_count": null,
      "metadata": {
        "colab": {
          "base_uri": "https://localhost:8080/",
          "height": 35
        },
        "id": "gqXgUhBqtWHJ",
        "outputId": "76712ee3-82a8-4f88-ac9f-f39512d4eb0b"
      },
      "outputs": [
        {
          "data": {
            "application/vnd.google.colaboratory.intrinsic+json": {
              "type": "string"
            },
            "text/plain": [
              "\"out = df[(df['Seller_desc'] == 'Deepak Jain') & (df['Total_cost'] > 10000)]['invoice_num']\""
            ]
          },
          "execution_count": 31,
          "metadata": {},
          "output_type": "execute_result"
        }
      ],
      "source": [
        "response"
      ]
    },
    {
      "cell_type": "code",
      "execution_count": null,
      "metadata": {
        "id": "keLr2N37tXdO"
      },
      "outputs": [],
      "source": [
        "exec(str(response))"
      ]
    },
    {
      "cell_type": "code",
      "execution_count": null,
      "metadata": {
        "colab": {
          "base_uri": "https://localhost:8080/"
        },
        "id": "jzoBPfT9tZNV",
        "outputId": "3642ba06-bbb6-46fb-cb1a-65807ccab7e8"
      },
      "outputs": [
        {
          "data": {
            "text/plain": [
              "Series([], Name: invoice_num, dtype: int64)"
            ]
          },
          "execution_count": 33,
          "metadata": {},
          "output_type": "execute_result"
        }
      ],
      "source": [
        "out"
      ]
    },
    {
      "cell_type": "markdown",
      "metadata": {
        "id": "4W1lFx4bxToJ"
      },
      "source": [
        "##What is trend of smita arora(invoice clearing trend)"
      ]
    },
    {
      "cell_type": "code",
      "execution_count": null,
      "metadata": {
        "id": "9wgoAeN2tb2r"
      },
      "outputs": [],
      "source": [
        "response = get_response(\"What is trend of smita arora(invoice clearing trend) me visualise this\")\n",
        "response = response[\"choices\"][0][\"message\"][\"content\"]"
      ]
    },
    {
      "cell_type": "code",
      "execution_count": null,
      "metadata": {
        "colab": {
          "base_uri": "https://localhost:8080/",
          "height": 35
        },
        "id": "YZSaaVE8xghP",
        "outputId": "22753f4c-2764-4433-963c-594223b74d1b"
      },
      "outputs": [
        {
          "data": {
            "application/vnd.google.colaboratory.intrinsic+json": {
              "type": "string"
            },
            "text/plain": [
              "\"out = df[df['Seller_desc'] == 'smita arora']['date'].value_counts().sort_index().plot()\""
            ]
          },
          "execution_count": 48,
          "metadata": {},
          "output_type": "execute_result"
        }
      ],
      "source": [
        "response"
      ]
    },
    {
      "cell_type": "code",
      "execution_count": null,
      "metadata": {
        "colab": {
          "base_uri": "https://localhost:8080/",
          "height": 428
        },
        "id": "6qTrVMOixiE1",
        "outputId": "d16768b3-e60f-4c07-a7e8-b4cff1eadeea"
      },
      "outputs": [
        {
          "data": {
            "text/plain": [
              "<Axes: >"
            ]
          },
          "execution_count": 50,
          "metadata": {},
          "output_type": "execute_result"
        },
        {
          "data": {
            "image/png": "[encoded data removed]",
            "text/plain": [
              "<Figure size 640x480 with 1 Axes>"
            ]
          },
          "metadata": {},
          "output_type": "display_data"
        }
      ],
      "source": [
        "df[df['Seller_desc'] == 'smita arora']['date'].value_counts().sort_index().plot()"
      ]
    },
    {
      "cell_type": "code",
      "execution_count": null,
      "metadata": {
        "id": "2hsjizrqxkqe"
      },
      "outputs": [],
      "source": []
    }
  ],
  "metadata": {
    "colab": {
      "provenance": []
    },
    "kernelspec": {
      "display_name": "Python 3",
      "name": "python3"
    },
    "language_info": {
      "codemirror_mode": {
        "name": "ipython",
        "version": 3
      },
      "file_extension": ".py",
      "mimetype": "text/x-python",
      "name": "python",
      "nbconvert_exporter": "python",
      "pygments_lexer": "ipython3",
      "version": "3.9.18"
    }
  },
  "nbformat": 4,
  "nbformat_minor": 0
}
